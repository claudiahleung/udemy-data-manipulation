{
 "cells": [
  {
   "cell_type": "code",
   "execution_count": 2,
   "id": "d8d1d264",
   "metadata": {},
   "outputs": [],
   "source": [
    "import numpy as np"
   ]
  },
  {
   "cell_type": "code",
   "execution_count": 31,
   "id": "36c1027f",
   "metadata": {},
   "outputs": [
    {
     "name": "stdout",
     "output_type": "stream",
     "text": [
      "[1 2 3 4 5]\n",
      "1\n",
      "1\n",
      "2\n",
      "3\n",
      "4\n",
      "5\n"
     ]
    }
   ],
   "source": [
    "oneDArray = np.array([1, 2, 3, 4, 5]) # pass python list/tuple to .array() function\n",
    "print(oneDArray)\n",
    "print(oneDArray.ndim)\n",
    "for i in oneDArray:\n",
    "    print(i)"
   ]
  },
  {
   "cell_type": "code",
   "execution_count": 35,
   "id": "24a2fb12",
   "metadata": {},
   "outputs": [
    {
     "name": "stdout",
     "output_type": "stream",
     "text": [
      "[[1 2 3]\n",
      " [4 5 6]]\n",
      "2\n",
      "[4 5 6]\n",
      "4\n",
      "(2, 3)\n",
      "1\n",
      "2\n",
      "3\n",
      "4\n",
      "5\n",
      "6\n"
     ]
    }
   ],
   "source": [
    "twoDArray = np.array([[1, 2, 3], [4, 5, 6]])\n",
    "print(twoDArray)\n",
    "print(twoDArray.ndim)\n",
    "print(twoDArray[1])\n",
    "print(twoDArray[1, 0])\n",
    "print(twoDArray.shape) # returns tuple; x = 2, y = 3 (no. of elements)\n",
    "for i in twoDArray:\n",
    "    for j in i:\n",
    "        print(j)"
   ]
  },
  {
   "cell_type": "code",
   "execution_count": 36,
   "id": "2311baf1",
   "metadata": {},
   "outputs": [
    {
     "name": "stdout",
     "output_type": "stream",
     "text": [
      "[[[ 1  2  3]\n",
      "  [-1 -2 -3]]\n",
      "\n",
      " [[ 4  5  6]\n",
      "  [-4 -5 -6]]]\n",
      "3\n",
      "[[ 1  2  3]\n",
      " [-1 -2 -3]]\n",
      "[[ 4  5  6]\n",
      " [-4 -5 -6]]\n",
      "[-1 -2 -3]\n",
      "-1\n",
      "--\n",
      "1\n",
      "2\n",
      "3\n",
      "-1\n",
      "-2\n",
      "-3\n",
      "4\n",
      "5\n",
      "6\n",
      "-4\n",
      "-5\n",
      "-6\n"
     ]
    }
   ],
   "source": [
    "threeDArray = np.array([[[1, 2, 3], [-1, -2, -3]], [[4, 5, 6], [-4, -5, -6]]])\n",
    "print(threeDArray)\n",
    "print(threeDArray.ndim)\n",
    "print(threeDArray[0])\n",
    "print(threeDArray[1])\n",
    "print(threeDArray[0,1])\n",
    "print(threeDArray[0,1,0])\n",
    "print('--')\n",
    "for i in threeDArray:\n",
    "    # print(i)\n",
    "    for j in i:    # print(i)\n",
    "\n",
    "        for k in j:\n",
    "            print(k)"
   ]
  },
  {
   "cell_type": "code",
   "execution_count": 28,
   "id": "a1bb7c91",
   "metadata": {},
   "outputs": [
    {
     "name": "stdout",
     "output_type": "stream",
     "text": [
      "[[[1 2 3 4]]]\n",
      "1\n"
     ]
    }
   ],
   "source": [
    "h = np.array([[[1,2, 3, 4]]])\n",
    "print(h)\n",
    "print(h[0, 0, 0])"
   ]
  },
  {
   "cell_type": "code",
   "execution_count": 5,
   "id": "9547cb9d",
   "metadata": {},
   "outputs": [
    {
     "name": "stdout",
     "output_type": "stream",
     "text": [
      "[0. 0. 0. 0. 0. 0. 0. 0. 0. 0.]\n",
      "<class 'numpy.ndarray'>\n",
      "[0 0 0 0 0 0 0 0 0 0]\n"
     ]
    }
   ],
   "source": [
    "zerosArray = np.zeros(10)\n",
    "print(zerosArray)\n",
    "print(type(zerosArray))\n",
    "zerosArray = zerosArray.astype(int)\n",
    "print(zerosArray)"
   ]
  },
  {
   "cell_type": "code",
   "execution_count": 8,
   "id": "30200361",
   "metadata": {},
   "outputs": [
    {
     "name": "stdout",
     "output_type": "stream",
     "text": [
      "[1. 1. 1. 1. 1. 1. 1. 1. 1. 1.]\n",
      "[1 1 1 1 1 1 1 1 1 1]\n"
     ]
    }
   ],
   "source": [
    "onesArray = np.ones(10)\n",
    "print(onesArray) # each of them is a float\n",
    "onesArray = onesArray.astype(int)\n",
    "print(onesArray)"
   ]
  },
  {
   "cell_type": "code",
   "execution_count": 9,
   "id": "79f4b0f3",
   "metadata": {},
   "outputs": [
    {
     "name": "stdout",
     "output_type": "stream",
     "text": [
      "[5 5 5 5 5 5 5 5 5 5]\n"
     ]
    }
   ],
   "source": [
    "fullArray = np.full(10, 5) \n",
    "print(fullArray)"
   ]
  },
  {
   "cell_type": "code",
   "execution_count": 25,
   "id": "3279a53a",
   "metadata": {},
   "outputs": [
    {
     "name": "stdout",
     "output_type": "stream",
     "text": [
      "[[1 2 3]\n",
      " [4 5 6]]\n",
      "[[3 4 5]\n",
      " [6 7 8]]\n",
      "[[-1  0  1]\n",
      " [ 2  3  4]]\n",
      "--\n",
      "[[ 2  4  6]\n",
      " [ 8 10 12]]\n",
      "--\n",
      "[[0.5 1.  1.5]\n",
      " [2.  2.5 3. ]]\n",
      "[[0 1 1]\n",
      " [2 2 3]]\n",
      "[[1 4]\n",
      " [2 5]\n",
      " [3 6]]\n"
     ]
    },
    {
     "ename": "AttributeError",
     "evalue": "'list' object has no attribute 'T'",
     "output_type": "error",
     "traceback": [
      "\u001b[0;31m---------------------------------------------------------------------------\u001b[0m",
      "\u001b[0;31mAttributeError\u001b[0m                            Traceback (most recent call last)",
      "Cell \u001b[0;32mIn [25], line 18\u001b[0m\n\u001b[1;32m     14\u001b[0m pythonList \u001b[38;5;241m=\u001b[39m [[\u001b[38;5;241m1\u001b[39m, \u001b[38;5;241m2\u001b[39m, \u001b[38;5;241m3\u001b[39m], [\u001b[38;5;241m4\u001b[39m, \u001b[38;5;241m5\u001b[39m, \u001b[38;5;241m6\u001b[39m]]\n\u001b[1;32m     15\u001b[0m \u001b[38;5;66;03m#print(pythonList)\u001b[39;00m\n\u001b[1;32m     16\u001b[0m \u001b[38;5;66;03m#print(pythonList * 2) #list is concatenated w/ itself\u001b[39;00m\n\u001b[1;32m     17\u001b[0m \u001b[38;5;66;03m#print(pythonList ** 2) # incompatible functions for list / int\u001b[39;00m\n\u001b[0;32m---> 18\u001b[0m \u001b[38;5;28mprint\u001b[39m(\u001b[43mpythonList\u001b[49m\u001b[38;5;241;43m.\u001b[39;49m\u001b[43mT\u001b[49m)\n",
      "\u001b[0;31mAttributeError\u001b[0m: 'list' object has no attribute 'T'"
     ]
    }
   ],
   "source": [
    "# scalar operations\n",
    "\n",
    "matrix = np.array([[1, 2, 3], [4, 5, 6]])\n",
    "print(matrix)\n",
    "print(matrix + 2)\n",
    "print(matrix - 2)\n",
    "print('--')\n",
    "print(matrix * 2)\n",
    "print('--')\n",
    "print(matrix / 2) # for float\n",
    "print(matrix // 2) # for int\n",
    "print(matrix.T)\n",
    "\n",
    "pythonList = [[1, 2, 3], [4, 5, 6]]\n",
    "#print(pythonList)\n",
    "#print(pythonList * 2) #list is concatenated w/ itself\n",
    "#print(pythonList ** 2) # incompatible functions for list / int\n",
    "# print(pythonList.T) # list object has no function .T"
   ]
  },
  {
   "cell_type": "code",
   "execution_count": 35,
   "id": "5cf83617",
   "metadata": {},
   "outputs": [
    {
     "name": "stdout",
     "output_type": "stream",
     "text": [
      "[[-1. -1. -1.]\n",
      " [-1. -1. -1.]]\n",
      "[[-1 -1 -1]\n",
      " [-1 -1 -1]]\n"
     ]
    }
   ],
   "source": [
    "matrix1 = np.array([[1, 2, 3], [4, 5, 6]])\n",
    "matrix2 = np.array([[-1, -2, -3], [-4, -5, -6]])\n",
    "#print(matrix1 + matrix2)\n",
    "print(matrix1 / matrix2)\n",
    "print((matrix1 / matrix2).astype(int))\n",
    "\n",
    "pythonList1 = [[1, 2, 3], [4, 5, 6]]\n",
    "pythonList2 = [[-1, -2, -3], [-4, -5, -6]]\n",
    "#print(pythonList1 + pythonList2)"
   ]
  },
  {
   "cell_type": "code",
   "execution_count": 37,
   "id": "c947c5f6",
   "metadata": {},
   "outputs": [
    {
     "data": {
      "text/plain": [
       "array([[ -9, -12, -15],\n",
       "       [-24, -33, -42],\n",
       "       [  0,   0,   0]])"
      ]
     },
     "execution_count": 37,
     "metadata": {},
     "output_type": "execute_result"
    }
   ],
   "source": [
    "matrix1 = np.array([[1, 2, 3], [4, 5, 6], [0,0,0]])\n",
    "matrix2 = np.array([[-1, -2, -3], [-4, -5, -6], [0,0,0]])\n",
    "np.matmul(matrix1, matrix2)"
   ]
  },
  {
   "cell_type": "code",
   "execution_count": 44,
   "id": "072211de",
   "metadata": {},
   "outputs": [
    {
     "data": {
      "text/plain": [
       "3.5"
      ]
     },
     "execution_count": 44,
     "metadata": {},
     "output_type": "execute_result"
    }
   ],
   "source": [
    "# frequently used stat functions\n",
    "matrix1 = np.array([[1, 2, 3], [4, 5, 6]])\n",
    "np.min(matrix1)\n",
    "np.max(matrix1)\n",
    "np.sum(matrix1)\n",
    "np.mean(matrix1)\n",
    "np.std(matrix1)\n",
    "np.median(matrix1)"
   ]
  },
  {
   "cell_type": "code",
   "execution_count": null,
   "id": "a5c7fb6f",
   "metadata": {},
   "outputs": [],
   "source": []
  }
 ],
 "metadata": {
  "kernelspec": {
   "display_name": "Python 3 (ipykernel)",
   "language": "python",
   "name": "python3"
  },
  "language_info": {
   "codemirror_mode": {
    "name": "ipython",
    "version": 3
   },
   "file_extension": ".py",
   "mimetype": "text/x-python",
   "name": "python",
   "nbconvert_exporter": "python",
   "pygments_lexer": "ipython3",
   "version": "3.10.8"
  }
 },
 "nbformat": 4,
 "nbformat_minor": 5
}
