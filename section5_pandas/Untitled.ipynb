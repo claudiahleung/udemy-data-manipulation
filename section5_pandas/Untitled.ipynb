{
 "cells": [
  {
   "cell_type": "code",
   "execution_count": 2,
   "id": "569b9b38",
   "metadata": {},
   "outputs": [],
   "source": [
    "import pandas as pd\n",
    "import numpy as np"
   ]
  },
  {
   "cell_type": "code",
   "execution_count": 3,
   "id": "a744b976",
   "metadata": {},
   "outputs": [
    {
     "name": "stdout",
     "output_type": "stream",
     "text": [
      "[['Apple', 'Red'], ['Banana', 'Yellow'], ['Orange', 'Orange']]\n",
      "        0       1\n",
      "0   Apple     Red\n",
      "1  Banana  Yellow\n",
      "2  Orange  Orange\n",
      "    Fruit   Color\n",
      "0   Apple     Red\n",
      "1  Banana  Yellow\n",
      "2  Orange  Orange\n"
     ]
    }
   ],
   "source": [
    "myList = [['Apple', 'Red'], ['Banana', 'Yellow'], ['Orange', 'Orange']]\n",
    "print(myList)\n",
    "myDF = pd.DataFrame(myList)\n",
    "print(myDF) # pandas automatically assigns num values to row/col headers if not defined\n",
    "\n",
    "# Convert list to DF\n",
    "my2D = [['Apple', 'Red'], ['Banana', 'Yellow'], ['Orange', 'Orange']]\n",
    "df2d = pd.DataFrame(my2D, columns=['Fruit', \n",
    "                                  'Color'])\n",
    "print(df2d)"
   ]
  },
  {
   "cell_type": "code",
   "execution_count": 5,
   "id": "e4145bb8",
   "metadata": {},
   "outputs": [],
   "source": [
    "# Numpy arrays are similar to Python lists; we can also convert a Numpy array to a DF using the same method\n",
    "myList = np.array([[0, 1], \n",
    "                  [2, 3],\n",
    "                  [4, 5]])\n",
    "listDF = pd.DataFrame(myList, columns=['even', 'odd'])"
   ]
  },
  {
   "cell_type": "code",
   "execution_count": 6,
   "id": "de3fa3c8",
   "metadata": {},
   "outputs": [
    {
     "data": {
      "text/html": [
       "<div>\n",
       "<style scoped>\n",
       "    .dataframe tbody tr th:only-of-type {\n",
       "        vertical-align: middle;\n",
       "    }\n",
       "\n",
       "    .dataframe tbody tr th {\n",
       "        vertical-align: top;\n",
       "    }\n",
       "\n",
       "    .dataframe thead th {\n",
       "        text-align: right;\n",
       "    }\n",
       "</style>\n",
       "<table border=\"1\" class=\"dataframe\">\n",
       "  <thead>\n",
       "    <tr style=\"text-align: right;\">\n",
       "      <th></th>\n",
       "      <th>Fruit</th>\n",
       "      <th>Color</th>\n",
       "    </tr>\n",
       "  </thead>\n",
       "  <tbody>\n",
       "    <tr>\n",
       "      <th>0</th>\n",
       "      <td>Apple</td>\n",
       "      <td>Red</td>\n",
       "    </tr>\n",
       "    <tr>\n",
       "      <th>1</th>\n",
       "      <td>Banana</td>\n",
       "      <td>Blue</td>\n",
       "    </tr>\n",
       "    <tr>\n",
       "      <th>2</th>\n",
       "      <td>Orange</td>\n",
       "      <td>Green</td>\n",
       "    </tr>\n",
       "  </tbody>\n",
       "</table>\n",
       "</div>"
      ],
      "text/plain": [
       "    Fruit  Color\n",
       "0   Apple    Red\n",
       "1  Banana   Blue\n",
       "2  Orange  Green"
      ]
     },
     "execution_count": 6,
     "metadata": {},
     "output_type": "execute_result"
    }
   ],
   "source": [
    "# Create DF with Dict\n",
    "myDict = {'Fruit': ['Apple', 'Banana', 'Orange'],\n",
    "         'Color': ['Red', 'Blue', 'Green']}\n",
    "dictDF = pd.DataFrame(myDict)\n",
    "dictDF"
   ]
  },
  {
   "cell_type": "code",
   "execution_count": 7,
   "id": "cdf6a5cd",
   "metadata": {},
   "outputs": [
    {
     "ename": "SyntaxError",
     "evalue": "closing parenthesis ')' does not match opening parenthesis '[' (4202899698.py, line 19)",
     "output_type": "error",
     "traceback": [
      "\u001b[0;36m  Cell \u001b[0;32mIn [7], line 19\u001b[0;36m\u001b[0m\n\u001b[0;31m    df[ df['calories'] > 70) & (df['protein'] < 4)]\u001b[0m\n\u001b[0m                           ^\u001b[0m\n\u001b[0;31mSyntaxError\u001b[0m\u001b[0;31m:\u001b[0m closing parenthesis ')' does not match opening parenthesis '['\n"
     ]
    }
   ],
   "source": [
    "# fake_csv = pd.read_csv('cereals')\n",
    "fake_csv.set_index('name') # index col is now 'name' and not the default 0,1,2\n",
    "fake_csv.set_index('name', inplace=True) # index col is now 'name' and not the default 0,1,2\n",
    "\n",
    "#statistical summary of the DF\n",
    "fake_csv.describe() # statstical summary of each cell\n",
    "\n",
    "#slicing \n",
    "fake_csv[1:4] # row 1 - 3\n",
    "\n",
    "#slicing by column names\n",
    "fake_csv[['name', 'rating']]\n",
    "\n",
    "#boolean list\n",
    "thirdRow = [False, False, True, False, False] # new nameless column is 'created', where only the third row is true. thus, this only returns the third row.\n",
    "\n",
    "#filtering\n",
    "condition = df['calories'] < 70\n",
    "df[ df['calories'] > 70) & (df['protein'] < 4)]\n",
    "df[ df['calories'] > 70) | (df['protein'] < 4)]"
   ]
  },
  {
   "cell_type": "code",
   "execution_count": null,
   "id": "1e791cb8",
   "metadata": {},
   "outputs": [],
   "source": [
    "# .loc()\n",
    "df.loc[0, 'name'] # returns '100% Bran', type list\n",
    "df.loc[[0], ['name']] #returns '100% Bran' but as a DF (w/ 0 and 'name' col)\n",
    "df.loc[0:4, 'name': 'protein'] # returns DF, cols name-protein and first 5 rows\n",
    "df.loc[[5:8], 'name': 'protein'] # returns DF, but only of row 5 and row 8\n",
    "\n",
    "#.iloc()\n",
    "df.iloc[9, 2] # value of the 9th row, 3rd col = 3\n",
    "df.iloc[0:5, 0:3] \n",
    "# indexing and slicing simultaneously\n",
    "df.iloc[[0, 2, 4], 0:3] # only get rows 0, 2, 4, and the first three cols"
   ]
  },
  {
   "cell_type": "code",
   "execution_count": null,
   "id": "80d67fe2",
   "metadata": {},
   "outputs": [],
   "source": [
    "# Adding/Deleting Rows/Columns\n",
    "df.loc[6] = ['Trix', 110, 1, 25, 27.753301] # create new row\n",
    "df.drop(2, axis=0, inplace=True) # deletes 2nd row\n",
    "df['My Column'] = ['A', 'B', 'C', 'D', 'E'] # creates 'my column' column and values appended to rows\n",
    "df.drop('My Column', axis=1, inplace=True)\n",
    "\n",
    "# sorting values\n",
    "df.sort_values(by='calories', ascending=False) #organising numeric value\n",
    "\n",
    "# df.to_csv('myFile.csv', index_label=False)\n",
    "\n",
    "# Concatenating DFs\n",
    "pd.concat([df1, df2], axis=1) #df2 columns added to the end of df1"
   ]
  },
  {
   "cell_type": "code",
   "execution_count": null,
   "id": "69c5988a",
   "metadata": {},
   "outputs": [],
   "source": [
    "#.groupby()\n",
    "df.groupby(df['Gender']).mean() # means calculated for female/male "
   ]
  }
 ],
 "metadata": {
  "kernelspec": {
   "display_name": "Python 3 (ipykernel)",
   "language": "python",
   "name": "python3"
  },
  "language_info": {
   "codemirror_mode": {
    "name": "ipython",
    "version": 3
   },
   "file_extension": ".py",
   "mimetype": "text/x-python",
   "name": "python",
   "nbconvert_exporter": "python",
   "pygments_lexer": "ipython3",
   "version": "3.10.8"
  }
 },
 "nbformat": 4,
 "nbformat_minor": 5
}
