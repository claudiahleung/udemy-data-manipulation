{
 "cells": [
  {
   "cell_type": "code",
   "execution_count": 1,
   "id": "6c558e23",
   "metadata": {},
   "outputs": [],
   "source": [
    "import pandas as pd\n",
    "import numpy as np"
   ]
  },
  {
   "cell_type": "code",
   "execution_count": 5,
   "id": "9bb123ee",
   "metadata": {},
   "outputs": [
    {
     "name": "stdout",
     "output_type": "stream",
     "text": [
      "[4.5]\n"
     ]
    }
   ],
   "source": [
    "# Median based anomaly detection\n",
    "x = pd.Series([2.1, 2.3, 4.5, 2.2, 2.4])\n",
    "median = np.median(x)\n",
    "threshold = 2\n",
    "outliers = []\n",
    "\n",
    "for item in x:\n",
    "    if abs(item - median) > threshold:\n",
    "        outliers.append(item)\n",
    "print(outliers)"
   ]
  },
  {
   "cell_type": "code",
   "execution_count": 6,
   "id": "8687e727",
   "metadata": {},
   "outputs": [
    {
     "name": "stdout",
     "output_type": "stream",
     "text": [
      "[4.5]\n"
     ]
    }
   ],
   "source": [
    "# Mean based anomaly detection\n",
    "x = pd.Series([2.1, 2.3, 4.5, 2.2, 2.4])\n",
    "mean = np.mean(x)\n",
    "std = np.std(x)\n",
    "outliers = []\n",
    "\n",
    "for item in x: # check if item is lower than lower bound / higher than upper bound\n",
    "    if (item < mean - std) or (item > mean + std):\n",
    "        outliers.append(item)\n",
    "print(outliers)"
   ]
  },
  {
   "cell_type": "code",
   "execution_count": 8,
   "id": "4e6d9faf",
   "metadata": {},
   "outputs": [
    {
     "name": "stdout",
     "output_type": "stream",
     "text": [
      "[4.5]\n"
     ]
    }
   ],
   "source": [
    "# Z-score based anomaly detection\n",
    "x = pd.Series([2.1, 2.3, 4.5, 2.2, 2.4])\n",
    "mean = np.mean(x)\n",
    "std = np.std(x)\n",
    "outliers = []\n",
    "\n",
    "for item in x:\n",
    "    z_score = (item - mean) / std\n",
    "    if z_score > 1.5:\n",
    "        outliers.append(item)\n",
    "print(outliers)"
   ]
  },
  {
   "cell_type": "code",
   "execution_count": 11,
   "id": "d6bd46e3",
   "metadata": {},
   "outputs": [
    {
     "name": "stdout",
     "output_type": "stream",
     "text": [
      "[4.5]\n"
     ]
    }
   ],
   "source": [
    "# IQR (Q3 - Q1)\n",
    "x = pd.Series([2.1, 2.3, 4.5, 2.2, 2.5])\n",
    "\n",
    "Q1, Q3 = np.percentile(x, [25, 75])\n",
    "IQR = Q3 - Q1\n",
    "outliers = []\n",
    "\n",
    "for item in x:\n",
    "    if item < (Q1-1.5*IQR) or item > (Q3+1.5*IQR):\n",
    "        outliers.append(item)\n",
    "print(outliers)"
   ]
  },
  {
   "cell_type": "code",
   "execution_count": null,
   "id": "58094fb1",
   "metadata": {},
   "outputs": [],
   "source": [
    "# Dealing with Missing Values\n",
    "# Finding missing values\n",
    "data.isnull()\n",
    "data.isnull().sum() # total of missing values per column\n",
    "\n",
    "# deleting rows w/ missing info\n",
    "data.dropna(inplace=True)\n",
    "\n",
    "# replacing missing values with mean/median/mode\n",
    "data.fillna(data.mean(), inplace=True)\n",
    "data['age'].fillna(data['age'].mean()[0], inplace=True) # specific cell"
   ]
  },
  {
   "cell_type": "code",
   "execution_count": 12,
   "id": "23802c38",
   "metadata": {},
   "outputs": [],
   "source": [
    "import re"
   ]
  },
  {
   "cell_type": "code",
   "execution_count": 18,
   "id": "65f81e27",
   "metadata": {},
   "outputs": [
    {
     "data": {
      "text/plain": [
       "'golang is my favourite programming language.'"
      ]
     },
     "execution_count": 18,
     "metadata": {},
     "output_type": "execute_result"
    }
   ],
   "source": [
    "txt = \"python is my favourite programming language.\"\n",
    "re.findall(\"python\", txt)\n",
    "match_obj = re.search(\"fa\", txt)\n",
    "match_obj.span() # find location of match\n",
    "re.sub(pattern=\"python\", repl=\"golang\", string=txt)"
   ]
  },
  {
   "cell_type": "code",
   "execution_count": 3,
   "id": "c3eca1dc",
   "metadata": {},
   "outputs": [
    {
     "data": {
      "text/html": [
       "<div>\n",
       "<style scoped>\n",
       "    .dataframe tbody tr th:only-of-type {\n",
       "        vertical-align: middle;\n",
       "    }\n",
       "\n",
       "    .dataframe tbody tr th {\n",
       "        vertical-align: top;\n",
       "    }\n",
       "\n",
       "    .dataframe thead th {\n",
       "        text-align: right;\n",
       "    }\n",
       "</style>\n",
       "<table border=\"1\" class=\"dataframe\">\n",
       "  <thead>\n",
       "    <tr style=\"text-align: right;\">\n",
       "      <th></th>\n",
       "      <th>age</th>\n",
       "      <th>salary</th>\n",
       "    </tr>\n",
       "  </thead>\n",
       "  <tbody>\n",
       "    <tr>\n",
       "      <th>0</th>\n",
       "      <td>28</td>\n",
       "      <td>10000</td>\n",
       "    </tr>\n",
       "    <tr>\n",
       "      <th>1</th>\n",
       "      <td>27</td>\n",
       "      <td>15000</td>\n",
       "    </tr>\n",
       "    <tr>\n",
       "      <th>2</th>\n",
       "      <td>30</td>\n",
       "      <td>11000</td>\n",
       "    </tr>\n",
       "    <tr>\n",
       "      <th>3</th>\n",
       "      <td>36</td>\n",
       "      <td>11000</td>\n",
       "    </tr>\n",
       "    <tr>\n",
       "      <th>4</th>\n",
       "      <td>27</td>\n",
       "      <td>13000</td>\n",
       "    </tr>\n",
       "  </tbody>\n",
       "</table>\n",
       "</div>"
      ],
      "text/plain": [
       "   age  salary\n",
       "0   28   10000\n",
       "1   27   15000\n",
       "2   30   11000\n",
       "3   36   11000\n",
       "4   27   13000"
      ]
     },
     "execution_count": 3,
     "metadata": {},
     "output_type": "execute_result"
    }
   ],
   "source": [
    "# feature scaling — normalisation\n",
    "df = {\n",
    "    \"age\": [28, 27, 30, 36, 27],\n",
    "    \"salary\": [10000, 15000, 11000, 11000, 13000]\n",
    "}\n",
    "df = pd.DataFrame.from_dict(df)\n",
    "df"
   ]
  },
  {
   "cell_type": "code",
   "execution_count": 4,
   "id": "be13d5e0",
   "metadata": {},
   "outputs": [
    {
     "data": {
      "text/html": [
       "<div>\n",
       "<style scoped>\n",
       "    .dataframe tbody tr th:only-of-type {\n",
       "        vertical-align: middle;\n",
       "    }\n",
       "\n",
       "    .dataframe tbody tr th {\n",
       "        vertical-align: top;\n",
       "    }\n",
       "\n",
       "    .dataframe thead th {\n",
       "        text-align: right;\n",
       "    }\n",
       "</style>\n",
       "<table border=\"1\" class=\"dataframe\">\n",
       "  <thead>\n",
       "    <tr style=\"text-align: right;\">\n",
       "      <th></th>\n",
       "      <th>age</th>\n",
       "      <th>salary</th>\n",
       "    </tr>\n",
       "  </thead>\n",
       "  <tbody>\n",
       "    <tr>\n",
       "      <th>0</th>\n",
       "      <td>0.111111</td>\n",
       "      <td>0.0</td>\n",
       "    </tr>\n",
       "    <tr>\n",
       "      <th>1</th>\n",
       "      <td>0.000000</td>\n",
       "      <td>1.0</td>\n",
       "    </tr>\n",
       "    <tr>\n",
       "      <th>2</th>\n",
       "      <td>0.333333</td>\n",
       "      <td>0.2</td>\n",
       "    </tr>\n",
       "    <tr>\n",
       "      <th>3</th>\n",
       "      <td>1.000000</td>\n",
       "      <td>0.2</td>\n",
       "    </tr>\n",
       "    <tr>\n",
       "      <th>4</th>\n",
       "      <td>0.000000</td>\n",
       "      <td>0.6</td>\n",
       "    </tr>\n",
       "  </tbody>\n",
       "</table>\n",
       "</div>"
      ],
      "text/plain": [
       "        age  salary\n",
       "0  0.111111     0.0\n",
       "1  0.000000     1.0\n",
       "2  0.333333     0.2\n",
       "3  1.000000     0.2\n",
       "4  0.000000     0.6"
      ]
     },
     "execution_count": 4,
     "metadata": {},
     "output_type": "execute_result"
    }
   ],
   "source": [
    "df = (df - df.min()) / (df.max() - df.min())\n",
    "df"
   ]
  },
  {
   "cell_type": "code",
   "execution_count": 5,
   "id": "805c29e7",
   "metadata": {},
   "outputs": [
    {
     "name": "stdout",
     "output_type": "stream",
     "text": [
      "        age  salary\n",
      "0 -0.423109    -1.0\n",
      "1 -0.687552     1.5\n",
      "2  0.105777    -0.5\n",
      "3  1.692435    -0.5\n",
      "4 -0.687552     0.5\n",
      "age       1.0\n",
      "salary    1.0\n",
      "dtype: float64\n"
     ]
    }
   ],
   "source": [
    "# feature scaling — standardisation\n",
    "df = (df - df.mean()) / df.std()\n",
    "print(df)\n",
    "print(df.std())"
   ]
  },
  {
   "cell_type": "code",
   "execution_count": null,
   "id": "abdb3c74",
   "metadata": {},
   "outputs": [],
   "source": []
  }
 ],
 "metadata": {
  "kernelspec": {
   "display_name": "Python 3 (ipykernel)",
   "language": "python",
   "name": "python3"
  },
  "language_info": {
   "codemirror_mode": {
    "name": "ipython",
    "version": 3
   },
   "file_extension": ".py",
   "mimetype": "text/x-python",
   "name": "python",
   "nbconvert_exporter": "python",
   "pygments_lexer": "ipython3",
   "version": "3.10.8"
  }
 },
 "nbformat": 4,
 "nbformat_minor": 5
}
